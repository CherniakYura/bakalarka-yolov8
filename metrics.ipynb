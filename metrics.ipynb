{
 "cells": [
  {
   "cell_type": "code",
   "execution_count": 8,
   "id": "6178c703-27a8-4f1c-930e-eea2a4a87c13",
   "metadata": {},
   "outputs": [
    {
     "name": "stderr",
     "output_type": "stream",
     "text": [
      "\n",
      "image 1/1 /home/artipark/Studenti/tests/data/val(region)/images/2017_01_28__22_59_52_84__SDO_AIA_AIA_193.png: 256x256 2 coronal holes, 12.0ms\n",
      "Speed: 0.3ms preprocess, 12.0ms inference, 0.7ms postprocess per image at shape (1, 3, 256, 256)\n"
     ]
    },
    {
     "name": "stdout",
     "output_type": "stream",
     "text": [
      "tensor([[0.8345]])\n"
     ]
    }
   ],
   "source": [
    "from ultralytics import YOLO\n",
    "from ultralytics.utils.metrics import mask_iou\n",
    "from torch import bitwise_or, zeros, Tensor\n",
    "import cv2\n",
    "import numpy as np\n",
    "import pandas as pd\n",
    "\n",
    "model = YOLO('runs/segment/train5 - color region/weights/best.pt')\n",
    "\n",
    "# 2017_01_24__23_00_04_84__SDO_AIA_AIA_193\n",
    "# 2017_01_20__23_00_04_84__SDO_AIA_AIA_193\n",
    "# 2017_01_28__22_59_52_84__SDO_AIA_AIA_193\n",
    "results = model('./data/val(region)/images/2017_01_28__22_59_52_84__SDO_AIA_AIA_193.png')\n",
    "\n",
    "def read_and_normalize_mask(image_path):\n",
    "    image = cv2.imread(image_path, cv2.IMREAD_GRAYSCALE)\n",
    "\n",
    "    image = cv2.normalize(image, None, 0, 1, cv2.NORM_MINMAX)\n",
    "\n",
    "    _, mask = cv2.threshold(image, 0.5, 1, cv2.THRESH_BINARY)\n",
    "\n",
    "    mask = mask.reshape(-1, int(image.shape[1] * image.shape[0]))\n",
    "\n",
    "    return mask\n",
    "\n",
    "true_mask = Tensor(read_and_normalize_mask(\"./data/val(region)/masks/2017_01_28__22_59_52_84__SDO_AIA_AIA_193.png\"))\n",
    "for r in results:\n",
    "    masks = r.masks.data.reshape(-1, 256*256).cpu()\n",
    "    masks = np.any(np.array(masks), axis=0)\n",
    "    masks = masks.reshape(-1, 256*256)\n",
    "    masks = Tensor(masks)\n",
    "    \n",
    "    # print(masks.reshape(-1, 256*256))\n",
    "    print(mask_iou(true_mask, masks))"
   ]
  }
 ],
 "metadata": {
  "kernelspec": {
   "display_name": "Python 3 (ipykernel)",
   "language": "python",
   "name": "python3"
  },
  "language_info": {
   "codemirror_mode": {
    "name": "ipython",
    "version": 3
   },
   "file_extension": ".py",
   "mimetype": "text/x-python",
   "name": "python",
   "nbconvert_exporter": "python",
   "pygments_lexer": "ipython3",
   "version": "3.7.16"
  }
 },
 "nbformat": 4,
 "nbformat_minor": 5
}
