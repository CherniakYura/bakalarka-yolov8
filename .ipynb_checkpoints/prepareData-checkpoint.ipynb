{
 "cells": [
  {
   "cell_type": "code",
   "execution_count": 1,
   "metadata": {},
   "outputs": [
    {
     "name": "stdout",
     "output_type": "stream",
     "text": [
      "Requirement already satisfied: ultralytics in /home/deeplearningtitan/anaconda3/lib/python3.8/site-packages (8.0.203)\n",
      "Requirement already satisfied: matplotlib>=3.3.0 in /home/deeplearningtitan/.local/lib/python3.8/site-packages (from ultralytics) (3.7.1)\n",
      "Requirement already satisfied: numpy>=1.22.2 in /home/deeplearningtitan/anaconda3/lib/python3.8/site-packages (from ultralytics) (1.22.2)\n",
      "Requirement already satisfied: opencv-python>=4.6.0 in /home/deeplearningtitan/anaconda3/lib/python3.8/site-packages (from ultralytics) (4.8.1.78)\n",
      "Requirement already satisfied: pillow>=7.1.2 in /home/deeplearningtitan/anaconda3/lib/python3.8/site-packages (from ultralytics) (8.0.1)\n",
      "Requirement already satisfied: pyyaml>=5.3.1 in /home/deeplearningtitan/anaconda3/lib/python3.8/site-packages (from ultralytics) (5.3.1)\n",
      "Requirement already satisfied: requests>=2.23.0 in /home/deeplearningtitan/anaconda3/lib/python3.8/site-packages (from ultralytics) (2.24.0)\n",
      "Requirement already satisfied: scipy>=1.4.1 in /home/deeplearningtitan/.local/lib/python3.8/site-packages (from ultralytics) (1.10.1)\n",
      "Requirement already satisfied: torch>=1.8.0 in /home/deeplearningtitan/anaconda3/lib/python3.8/site-packages (from ultralytics) (2.1.0)\n",
      "Requirement already satisfied: torchvision>=0.9.0 in /home/deeplearningtitan/anaconda3/lib/python3.8/site-packages (from ultralytics) (0.16.0)\n",
      "Requirement already satisfied: tqdm>=4.64.0 in /home/deeplearningtitan/anaconda3/lib/python3.8/site-packages (from ultralytics) (4.66.1)\n",
      "Requirement already satisfied: pandas>=1.1.4 in /home/deeplearningtitan/anaconda3/lib/python3.8/site-packages (from ultralytics) (1.5.3)\n",
      "Requirement already satisfied: seaborn>=0.11.0 in /home/deeplearningtitan/anaconda3/lib/python3.8/site-packages (from ultralytics) (0.11.0)\n",
      "Requirement already satisfied: psutil in /home/deeplearningtitan/anaconda3/lib/python3.8/site-packages (from ultralytics) (5.7.2)\n",
      "Requirement already satisfied: py-cpuinfo in /home/deeplearningtitan/anaconda3/lib/python3.8/site-packages (from ultralytics) (9.0.0)\n",
      "Requirement already satisfied: thop>=0.1.1 in /home/deeplearningtitan/anaconda3/lib/python3.8/site-packages (from ultralytics) (0.1.1.post2209072238)\n",
      "Requirement already satisfied: contourpy>=1.0.1 in /home/deeplearningtitan/.local/lib/python3.8/site-packages (from matplotlib>=3.3.0->ultralytics) (1.0.7)\n",
      "Requirement already satisfied: cycler>=0.10 in /home/deeplearningtitan/.local/lib/python3.8/site-packages (from matplotlib>=3.3.0->ultralytics) (0.11.0)\n",
      "Requirement already satisfied: fonttools>=4.22.0 in /home/deeplearningtitan/.local/lib/python3.8/site-packages (from matplotlib>=3.3.0->ultralytics) (4.39.4)\n",
      "Requirement already satisfied: kiwisolver>=1.0.1 in /home/deeplearningtitan/.local/lib/python3.8/site-packages (from matplotlib>=3.3.0->ultralytics) (1.4.4)\n",
      "Requirement already satisfied: packaging>=20.0 in /home/deeplearningtitan/anaconda3/lib/python3.8/site-packages (from matplotlib>=3.3.0->ultralytics) (23.1)\n",
      "Requirement already satisfied: pyparsing>=2.3.1 in /home/deeplearningtitan/.local/lib/python3.8/site-packages (from matplotlib>=3.3.0->ultralytics) (3.0.9)\n",
      "Requirement already satisfied: python-dateutil>=2.7 in /home/deeplearningtitan/anaconda3/lib/python3.8/site-packages (from matplotlib>=3.3.0->ultralytics) (2.8.1)\n",
      "Requirement already satisfied: importlib-resources>=3.2.0 in /home/deeplearningtitan/.local/lib/python3.8/site-packages (from matplotlib>=3.3.0->ultralytics) (5.12.0)\n",
      "Requirement already satisfied: pytz>=2020.1 in /home/deeplearningtitan/anaconda3/lib/python3.8/site-packages (from pandas>=1.1.4->ultralytics) (2020.1)\n",
      "Requirement already satisfied: chardet<4,>=3.0.2 in /home/deeplearningtitan/anaconda3/lib/python3.8/site-packages (from requests>=2.23.0->ultralytics) (3.0.4)\n",
      "Requirement already satisfied: idna<3,>=2.5 in /home/deeplearningtitan/anaconda3/lib/python3.8/site-packages (from requests>=2.23.0->ultralytics) (2.10)\n",
      "Requirement already satisfied: urllib3!=1.25.0,!=1.25.1,<1.26,>=1.21.1 in /home/deeplearningtitan/anaconda3/lib/python3.8/site-packages (from requests>=2.23.0->ultralytics) (1.25.11)\n",
      "Requirement already satisfied: certifi>=2017.4.17 in /home/deeplearningtitan/anaconda3/lib/python3.8/site-packages (from requests>=2.23.0->ultralytics) (2020.6.20)\n",
      "Requirement already satisfied: filelock in /home/deeplearningtitan/anaconda3/lib/python3.8/site-packages (from torch>=1.8.0->ultralytics) (3.0.12)\n",
      "Requirement already satisfied: typing-extensions in /home/deeplearningtitan/.local/lib/python3.8/site-packages (from torch>=1.8.0->ultralytics) (4.5.0)\n",
      "Requirement already satisfied: sympy in /home/deeplearningtitan/anaconda3/lib/python3.8/site-packages (from torch>=1.8.0->ultralytics) (1.6.2)\n",
      "Requirement already satisfied: networkx in /home/deeplearningtitan/anaconda3/lib/python3.8/site-packages (from torch>=1.8.0->ultralytics) (2.5)\n",
      "Requirement already satisfied: jinja2 in /home/deeplearningtitan/anaconda3/lib/python3.8/site-packages (from torch>=1.8.0->ultralytics) (2.11.2)\n",
      "Requirement already satisfied: fsspec in /home/deeplearningtitan/anaconda3/lib/python3.8/site-packages (from torch>=1.8.0->ultralytics) (0.8.3)\n",
      "Requirement already satisfied: nvidia-cuda-nvrtc-cu12==12.1.105 in /home/deeplearningtitan/anaconda3/lib/python3.8/site-packages (from torch>=1.8.0->ultralytics) (12.1.105)\n",
      "Requirement already satisfied: nvidia-cuda-runtime-cu12==12.1.105 in /home/deeplearningtitan/anaconda3/lib/python3.8/site-packages (from torch>=1.8.0->ultralytics) (12.1.105)\n",
      "Requirement already satisfied: nvidia-cuda-cupti-cu12==12.1.105 in /home/deeplearningtitan/anaconda3/lib/python3.8/site-packages (from torch>=1.8.0->ultralytics) (12.1.105)\n",
      "Requirement already satisfied: nvidia-cudnn-cu12==8.9.2.26 in /home/deeplearningtitan/anaconda3/lib/python3.8/site-packages (from torch>=1.8.0->ultralytics) (8.9.2.26)\n",
      "Requirement already satisfied: nvidia-cublas-cu12==12.1.3.1 in /home/deeplearningtitan/anaconda3/lib/python3.8/site-packages (from torch>=1.8.0->ultralytics) (12.1.3.1)\n",
      "Requirement already satisfied: nvidia-cufft-cu12==11.0.2.54 in /home/deeplearningtitan/anaconda3/lib/python3.8/site-packages (from torch>=1.8.0->ultralytics) (11.0.2.54)\n",
      "Requirement already satisfied: nvidia-curand-cu12==10.3.2.106 in /home/deeplearningtitan/anaconda3/lib/python3.8/site-packages (from torch>=1.8.0->ultralytics) (10.3.2.106)\n",
      "Requirement already satisfied: nvidia-cusolver-cu12==11.4.5.107 in /home/deeplearningtitan/anaconda3/lib/python3.8/site-packages (from torch>=1.8.0->ultralytics) (11.4.5.107)\n",
      "Requirement already satisfied: nvidia-cusparse-cu12==12.1.0.106 in /home/deeplearningtitan/anaconda3/lib/python3.8/site-packages (from torch>=1.8.0->ultralytics) (12.1.0.106)\n",
      "Requirement already satisfied: nvidia-nccl-cu12==2.18.1 in /home/deeplearningtitan/anaconda3/lib/python3.8/site-packages (from torch>=1.8.0->ultralytics) (2.18.1)\n",
      "Requirement already satisfied: nvidia-nvtx-cu12==12.1.105 in /home/deeplearningtitan/anaconda3/lib/python3.8/site-packages (from torch>=1.8.0->ultralytics) (12.1.105)\n",
      "Requirement already satisfied: triton==2.1.0 in /home/deeplearningtitan/anaconda3/lib/python3.8/site-packages (from torch>=1.8.0->ultralytics) (2.1.0)\n",
      "Requirement already satisfied: nvidia-nvjitlink-cu12 in /home/deeplearningtitan/anaconda3/lib/python3.8/site-packages (from nvidia-cusolver-cu12==11.4.5.107->torch>=1.8.0->ultralytics) (12.3.52)\n",
      "Requirement already satisfied: zipp>=3.1.0 in /home/deeplearningtitan/.local/lib/python3.8/site-packages (from importlib-resources>=3.2.0->matplotlib>=3.3.0->ultralytics) (3.15.0)\n",
      "Requirement already satisfied: six>=1.5 in /home/deeplearningtitan/anaconda3/lib/python3.8/site-packages (from python-dateutil>=2.7->matplotlib>=3.3.0->ultralytics) (1.15.0)\n",
      "Requirement already satisfied: MarkupSafe>=0.23 in /home/deeplearningtitan/anaconda3/lib/python3.8/site-packages (from jinja2->torch>=1.8.0->ultralytics) (1.1.1)\n",
      "Requirement already satisfied: decorator>=4.3.0 in /home/deeplearningtitan/.local/lib/python3.8/site-packages (from networkx->torch>=1.8.0->ultralytics) (5.1.1)\n",
      "Requirement already satisfied: mpmath>=0.19 in /home/deeplearningtitan/anaconda3/lib/python3.8/site-packages (from sympy->torch>=1.8.0->ultralytics) (1.1.0)\n",
      "\u001b[33mDEPRECATION: pyodbc 4.0.0-unsupported has a non-standard version number. pip 24.0 will enforce this behaviour change. A possible replacement is to upgrade to a newer version of pyodbc or contact the author to suggest that they release a version with a conforming version number. Discussion can be found at https://github.com/pypa/pip/issues/12063\u001b[0m\u001b[33m\n",
      "\u001b[0m\u001b[33mWARNING: There was an error checking the latest version of pip.\u001b[0m\u001b[33m\n",
      "\u001b[0m"
     ]
    }
   ],
   "source": [
    "import numpy as np\n",
    "import cv2\n",
    "import os\n",
    "\n",
    "!pip install ultralytics"
   ]
  },
  {
   "cell_type": "code",
   "execution_count": 7,
   "metadata": {},
   "outputs": [],
   "source": [
    "!mkdir -p data/train\\(zooniverse\\)\n",
    "!mkdir -p data/train\\(region_growth\\)\n",
    "!mkdir -p data/test\\(spoca\\)\n",
    "!mkdir -p data/test\\(region\\)\n",
    "\n",
    "!cp -r scss-net/data/193_train/193\\(zooniverse\\)/imgs data/train\\(zooniverse\\)/images \n",
    "!cp -r scss-net/data/193_train/193\\(zooniverse\\)/masks data/train\\(zooniverse\\)/masks\n",
    "\n",
    "!cp -r scss-net/data/193_train/193\\(region_growth\\)/imgs data/train\\(region_growth\\)/images\n",
    "!cp -r scss-net/data/193_train/193\\(region_growth\\)/masks data/train\\(region_growth\\)/masks\n",
    "\n",
    "!cp -r scss-net/data/193_test/masks\\(spoca\\) data/test\\(spoca\\)/masks\n",
    "!cp -r scss-net/data/193_test/masks\\(region\\) data/test\\(region\\)/masks\n",
    "\n",
    "!cp -r scss-net/data/193_test/imgs data/test\\(spoca\\)/images\n",
    "!cp -r scss-net/data/193_test/imgs data/test\\(region\\)/images"
   ]
  },
  {
   "cell_type": "code",
   "execution_count": 127,
   "metadata": {},
   "outputs": [],
   "source": [
    "def create_contours(mask):\n",
    "    \n",
    "    width = mask.shape[1]\n",
    "    height = mask.shape[0]\n",
    "    # ret, thresh = cv2.threshold(mask, 127, 255, 0)\n",
    "    contours, _ = cv2.findContours(mask, cv2.RETR_TREE, cv2.CHAIN_APPROX_NONE)\n",
    "    \n",
    "    coords = []\n",
    "    for i, object in enumerate(contours):\n",
    "        coords.append([])\n",
    "        for point in object:\n",
    "            new_x = (int(point[0][0])) / (width)\n",
    "            new_y = (int(point[0][1])) / (height)\n",
    "            coords[i].append((new_x, new_y))\n",
    "    return coords"
   ]
  },
  {
   "cell_type": "code",
   "execution_count": 128,
   "metadata": {},
   "outputs": [],
   "source": [
    "def convert_to_yolo(folder_path):\n",
    "    masks_path = os.path.join(folder_path, 'masks')\n",
    "    labels_path = os.path.join(folder_path, 'labels')\n",
    "\n",
    "    png_files = [file for file in os.listdir(masks_path) if file.endswith('.png')]\n",
    "\n",
    "    for png_file in png_files:\n",
    "        input_path = os.path.join(masks_path, png_file)\n",
    "\n",
    "        image_cv2 = cv2.imread(input_path, cv2.IMREAD_GRAYSCALE)\n",
    "\n",
    "        coords_of_objects = create_contours(image_cv2)\n",
    "    \n",
    "        txt_file = os.path.splitext(png_file)[0] + '.txt'\n",
    "        output_path = os.path.join(labels_path, txt_file)\n",
    "\n",
    "        with open(output_path, 'w') as label_file:\n",
    "            for i, object_coords in enumerate(coords_of_objects):\n",
    "                coordinates_str = ' '.join(map(str, np.reshape(object_coords, -1)))\n",
    "                string_to_write = f\"0 {coordinates_str}\"\n",
    "                if i < (len(coords_of_objects) - 1):\n",
    "                    string_to_write += \"\\n\"\n",
    "                label_file.write(string_to_write)"
   ]
  },
  {
   "cell_type": "code",
   "execution_count": 4,
   "metadata": {},
   "outputs": [
    {
     "name": "stdout",
     "output_type": "stream",
     "text": [
      "Requirement already satisfied: Pillow in /opt/conda/lib/python3.10/site-packages (9.2.0)\n",
      "Collecting Pillow\n",
      "  Downloading Pillow-10.1.0-cp310-cp310-manylinux_2_28_x86_64.whl (3.6 MB)\n",
      "\u001b[2K     \u001b[90m━━━━━━━━━━━━━━━━━━━━━━━━━━━━━━━━━━━━━━━━\u001b[0m \u001b[32m3.6/3.6 MB\u001b[0m \u001b[31m33.3 MB/s\u001b[0m eta \u001b[36m0:00:00\u001b[0ma \u001b[36m0:00:01\u001b[0m\n",
      "\u001b[?25hInstalling collected packages: Pillow\n",
      "  Attempting uninstall: Pillow\n",
      "    Found existing installation: Pillow 9.2.0\n",
      "    Uninstalling Pillow-9.2.0:\n",
      "      Successfully uninstalled Pillow-9.2.0\n",
      "Successfully installed Pillow-10.1.0\n"
     ]
    }
   ],
   "source": [
    "!python3 -m pip install --upgrade Pillow"
   ]
  },
  {
   "cell_type": "code",
   "execution_count": 3,
   "metadata": {},
   "outputs": [
    {
     "name": "stdout",
     "output_type": "stream",
     "text": [
      "Collecting opencv-python\n",
      "  Downloading opencv_python-4.8.1.78-cp37-abi3-manylinux_2_17_x86_64.manylinux2014_x86_64.whl (61.7 MB)\n",
      "\u001b[2K     \u001b[90m━━━━━━━━━━━━━━━━━━━━━━━━━━━━━━━━━━━━━━━━\u001b[0m \u001b[32m61.7/61.7 MB\u001b[0m \u001b[31m27.3 MB/s\u001b[0m eta \u001b[36m0:00:00\u001b[0m00:01\u001b[0m00:01\u001b[0m\n",
      "\u001b[?25hRequirement already satisfied: numpy>=1.19.3 in /opt/conda/lib/python3.10/site-packages (from opencv-python) (1.22.4)\n",
      "Installing collected packages: opencv-python\n",
      "Successfully installed opencv-python-4.8.1.78\n"
     ]
    }
   ],
   "source": [
    "!pip3 install opencv-python"
   ]
  },
  {
   "cell_type": "code",
   "execution_count": 26,
   "metadata": {},
   "outputs": [],
   "source": [
    "import cv2\n",
    "from PIL import Image\n",
    "\n",
    "def display_label(label_name):\n",
    "    image = cv2.imread(\"./data/train(region)/images/\"+label_name+\".png\")\n",
    "\n",
    "    with open(\"./data/train(region)/labels/\" + label_name + \".txt\", 'r') as f:\n",
    "        label = f.read()\n",
    "\n",
    "    label_elements = label.strip().split(' ')\n",
    "\n",
    "    coords = [(int(float(label_elements[i])*256), int(float(label_elements[i+1])*256)) for i in range(1, len(label_elements), 2)]\n",
    "   \n",
    "    for coord in coords:\n",
    "        cv2.circle(image, coord, radius=0, color=(0, 255, 0), thickness=-1)\n",
    "   \n",
    "    cv2.imwrite(\"./test.png\", image)\n"
   ]
  },
  {
   "cell_type": "code",
   "execution_count": 15,
   "metadata": {},
   "outputs": [],
   "source": [
    "import cv2\n",
    "   \n",
    "def convert_to_grayscale(folder_path):\n",
    "    images_path = os.path.join(folder_path, 'images')\n",
    "    grayscale_images_path = os.path.join(folder_path, 'images-gray')\n",
    "\n",
    "    png_files = [file for file in os.listdir(images_path) if file.endswith('.png')]\n",
    "    \n",
    "    for img_path in png_files:\n",
    "        image = cv2.imread(images_path + \"/\" + img_path)\n",
    "        gray_image = cv2.cvtColor(image, cv2.COLOR_BGR2GRAY) \n",
    "        cv2.imwrite(grayscale_images_path + \"/\" + img_path, gray_image)\n"
   ]
  },
  {
   "cell_type": "code",
   "execution_count": 35,
   "metadata": {},
   "outputs": [],
   "source": [
    "from pathlib import Path\n",
    "\n",
    "def remove_invalid_labels_with_images(data_path):\n",
    "    images_path = os.path.join(data_path, 'images')\n",
    "    labels_path = os.path.join(data_path, 'labels')\n",
    "\n",
    "    txt_files = [file for file in os.listdir(labels_path) if file.endswith('.txt')]\n",
    "    \n",
    "    for txt_file in txt_files:\n",
    "        with open(labels_path +\"/\"+ txt_file, 'r') as f:\n",
    "            label = f.read()\n",
    "            png_file = os.path.splitext(txt_file)[0] + '.png'\n",
    "            if(len(label.split()) < 5):\n",
    "                print(\"removing... \" + png_file)\n",
    "                Path(images_path+\"/\" + png_file).unlink()\n",
    "                print(\"removing... \" + txt_file)\n",
    "                Path(labels_path+\"/\" + txt_file).unlink()\n",
    "        \n",
    "            "
   ]
  },
  {
   "cell_type": "code",
   "execution_count": 37,
   "metadata": {},
   "outputs": [],
   "source": [
    "# remove_invalid_labels_with_images(\"./data/train(region+grayscale)\")"
   ]
  },
  {
   "cell_type": "code",
   "execution_count": 17,
   "metadata": {},
   "outputs": [],
   "source": [
    "convert_to_grayscale(\"./data/val(region+grayscale)\")"
   ]
  },
  {
   "cell_type": "code",
   "execution_count": 38,
   "metadata": {},
   "outputs": [],
   "source": [
    "display_label(\"2012_01_31__22_59_43_84__SDO_AIA_AIA_193\")"
   ]
  },
  {
   "cell_type": "code",
   "execution_count": 129,
   "metadata": {},
   "outputs": [],
   "source": [
    "convert_to_yolo(\"./data/train(region)\")\n",
    "convert_to_yolo(\"./data/val(region)\")"
   ]
  }
 ],
 "metadata": {
  "kernelspec": {
   "display_name": "Python 3 (ipykernel)",
   "language": "python",
   "name": "python3"
  },
  "language_info": {
   "codemirror_mode": {
    "name": "ipython",
    "version": 3
   },
   "file_extension": ".py",
   "mimetype": "text/x-python",
   "name": "python",
   "nbconvert_exporter": "python",
   "pygments_lexer": "ipython3",
   "version": "3.8.5"
  }
 },
 "nbformat": 4,
 "nbformat_minor": 5
}
