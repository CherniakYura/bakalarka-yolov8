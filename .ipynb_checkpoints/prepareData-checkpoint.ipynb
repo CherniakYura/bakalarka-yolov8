{
 "cells": [
  {
   "cell_type": "code",
   "execution_count": 39,
   "id": "9c62354f-89cd-43dc-a630-0e21aff90340",
   "metadata": {},
   "outputs": [],
   "source": [
    "import numpy as np\n",
    "import cv2\n",
    "import os\n",
    "\n"
   ]
  },
  {
   "cell_type": "code",
   "execution_count": 125,
   "id": "b8a77c9e-9769-4b09-86b0-5e59ab0a40df",
   "metadata": {},
   "outputs": [
    {
     "data": {
      "text/plain": [
       "[[(0.546875, 0.8828125),\n",
       "  (0.546875, 0.88671875),\n",
       "  (0.55078125, 0.88671875),\n",
       "  (0.5546875, 0.88671875),\n",
       "  (0.5546875, 0.8828125),\n",
       "  (0.55078125, 0.8828125)],\n",
       " [(0.40234375, 0.375),\n",
       "  (0.3984375, 0.37890625),\n",
       "  (0.39453125, 0.3828125),\n",
       "  (0.390625, 0.3828125),\n",
       "  (0.38671875, 0.38671875),\n",
       "  (0.3828125, 0.390625),\n",
       "  (0.3828125, 0.39453125),\n",
       "  (0.38671875, 0.3984375),\n",
       "  (0.3828125, 0.40234375),\n",
       "  (0.37890625, 0.40234375),\n",
       "  (0.375, 0.40625),\n",
       "  (0.37109375, 0.40625),\n",
       "  (0.37109375, 0.41015625),\n",
       "  (0.3671875, 0.4140625),\n",
       "  (0.36328125, 0.41796875),\n",
       "  (0.36328125, 0.421875),\n",
       "  (0.359375, 0.42578125),\n",
       "  (0.35546875, 0.42578125),\n",
       "  (0.35546875, 0.4296875),\n",
       "  (0.3515625, 0.43359375),\n",
       "  (0.3515625, 0.4375),\n",
       "  (0.3515625, 0.44140625),\n",
       "  (0.34765625, 0.4453125),\n",
       "  (0.34765625, 0.44921875),\n",
       "  (0.34765625, 0.453125),\n",
       "  (0.34375, 0.45703125),\n",
       "  (0.34375, 0.4609375),\n",
       "  (0.33984375, 0.46484375),\n",
       "  (0.33984375, 0.46875),\n",
       "  (0.3359375, 0.47265625),\n",
       "  (0.33203125, 0.4765625),\n",
       "  (0.328125, 0.48046875),\n",
       "  (0.328125, 0.484375),\n",
       "  (0.32421875, 0.48828125),\n",
       "  (0.3203125, 0.4921875),\n",
       "  (0.3203125, 0.49609375),\n",
       "  (0.3203125, 0.5),\n",
       "  (0.3203125, 0.50390625),\n",
       "  (0.3203125, 0.5078125),\n",
       "  (0.32421875, 0.51171875),\n",
       "  (0.32421875, 0.515625),\n",
       "  (0.328125, 0.515625),\n",
       "  (0.33203125, 0.515625),\n",
       "  (0.3359375, 0.51171875),\n",
       "  (0.33984375, 0.5078125),\n",
       "  (0.34375, 0.5078125),\n",
       "  (0.34375, 0.50390625),\n",
       "  (0.34375, 0.5),\n",
       "  (0.34375, 0.49609375),\n",
       "  (0.34765625, 0.4921875),\n",
       "  (0.3515625, 0.4921875),\n",
       "  (0.35546875, 0.48828125),\n",
       "  (0.359375, 0.484375),\n",
       "  (0.36328125, 0.484375),\n",
       "  (0.36328125, 0.48046875),\n",
       "  (0.3671875, 0.4765625),\n",
       "  (0.37109375, 0.47265625),\n",
       "  (0.37109375, 0.46875),\n",
       "  (0.37109375, 0.46484375),\n",
       "  (0.37109375, 0.4609375),\n",
       "  (0.37109375, 0.45703125),\n",
       "  (0.375, 0.453125),\n",
       "  (0.375, 0.44921875),\n",
       "  (0.375, 0.4453125),\n",
       "  (0.375, 0.44140625),\n",
       "  (0.37890625, 0.4375),\n",
       "  (0.37890625, 0.43359375),\n",
       "  (0.37890625, 0.4296875),\n",
       "  (0.37890625, 0.42578125),\n",
       "  (0.3828125, 0.421875),\n",
       "  (0.3828125, 0.41796875),\n",
       "  (0.3828125, 0.4140625),\n",
       "  (0.38671875, 0.41015625),\n",
       "  (0.390625, 0.40625),\n",
       "  (0.39453125, 0.40625),\n",
       "  (0.3984375, 0.40625),\n",
       "  (0.3984375, 0.40234375),\n",
       "  (0.40234375, 0.3984375),\n",
       "  (0.40625, 0.3984375),\n",
       "  (0.41015625, 0.3984375),\n",
       "  (0.4140625, 0.3984375),\n",
       "  (0.41796875, 0.39453125),\n",
       "  (0.41796875, 0.390625),\n",
       "  (0.41796875, 0.38671875),\n",
       "  (0.41796875, 0.3828125),\n",
       "  (0.4140625, 0.37890625),\n",
       "  (0.41015625, 0.37890625),\n",
       "  (0.40625, 0.375)],\n",
       " [(0.33984375, 0.4921875),\n",
       "  (0.34375, 0.48828125),\n",
       "  (0.34765625, 0.4921875),\n",
       "  (0.34375, 0.49609375)]]"
      ]
     },
     "execution_count": 125,
     "metadata": {},
     "output_type": "execute_result"
    }
   ],
   "source": [
    "# test_data = cv2.imread(\"./data/train(region)/masks/2012_01_02__22_59_43_84__SDO_AIA_AIA_193.png\",\n",
    "#                        cv2.IMREAD_GRAYSCALE)\n",
    "# res, _ = cv2.findContours(test_data, cv2.RETR_TREE, cv2.CHAIN_APPROX_NONE)\n",
    "\n",
    "# np.shape(res)\n",
    "# np.shape(create_contours(test_data))\n",
    "# create_contours(test_data)"
   ]
  },
  {
   "cell_type": "code",
   "execution_count": 124,
   "id": "4b102b9b-f565-4a3d-afb2-3b754d52235a",
   "metadata": {},
   "outputs": [],
   "source": [
    "def create_contours(mask):\n",
    "    \n",
    "    width = mask.shape[1]\n",
    "    height = mask.shape[0]\n",
    "    # ret, thresh = cv2.threshold(mask, 127, 255, 0)\n",
    "    contours, _ = cv2.findContours(mask, cv2.RETR_TREE, cv2.CHAIN_APPROX_NONE)\n",
    "    \n",
    "    coords = []\n",
    "    for i, object in enumerate(contours):\n",
    "        coords.append([])\n",
    "        for point in object:\n",
    "            new_x = (int(point[0][0])) / (width)\n",
    "            new_y = (int(point[0][1])) / (height)\n",
    "            coords[i].append((new_x, new_y))\n",
    "    return coords"
   ]
  },
  {
   "cell_type": "code",
   "execution_count": 65,
   "id": "17afc027-426e-4927-a587-9fb6180fd2c3",
   "metadata": {},
   "outputs": [],
   "source": [
    "def convert_to_yolo(folder_path):\n",
    "    masks_path = os.path.join(folder_path, 'masks')\n",
    "    labels_path = os.path.join(folder_path, 'labels')\n",
    "\n",
    "    png_files = [file for file in os.listdir(masks_path) if file.endswith('.png')]\n",
    "\n",
    "    for png_file in png_files:\n",
    "        input_path = os.path.join(masks_path, png_file)\n",
    "\n",
    "        image_cv2 = cv2.imread(input_path, cv2.IMREAD_GRAYSCALE)\n",
    "\n",
    "        coords_of_objects = create_contours(image_cv2)\n",
    "    \n",
    "        txt_file = os.path.splitext(png_file)[0] + '.txt'\n",
    "        output_path = os.path.join(labels_path, txt_file)\n",
    "\n",
    "        with open(output_path, 'w') as label_file:\n",
    "            for i, object_coords in enumerate(coords_of_objects):\n",
    "                coordinates_str = ' '.join(map(str, np.reshape(object_coords, -1)))\n",
    "                string_to_write = f\"0 {coordinates_str}\"\n",
    "                if i < (len(coords_of_objects) - 1):\n",
    "                    string_to_write += \"\\n\"\n",
    "                label_file.write(string_to_write)"
   ]
  },
  {
   "cell_type": "code",
   "execution_count": 4,
   "id": "6b2c24c2-b013-43bc-85bf-8047ec6bf304",
   "metadata": {},
   "outputs": [
    {
     "name": "stdout",
     "output_type": "stream",
     "text": [
      "Requirement already satisfied: Pillow in /opt/conda/lib/python3.10/site-packages (9.2.0)\n",
      "Collecting Pillow\n",
      "  Downloading Pillow-10.1.0-cp310-cp310-manylinux_2_28_x86_64.whl (3.6 MB)\n",
      "\u001b[2K     \u001b[90m━━━━━━━━━━━━━━━━━━━━━━━━━━━━━━━━━━━━━━━━\u001b[0m \u001b[32m3.6/3.6 MB\u001b[0m \u001b[31m33.3 MB/s\u001b[0m eta \u001b[36m0:00:00\u001b[0ma \u001b[36m0:00:01\u001b[0m\n",
      "\u001b[?25hInstalling collected packages: Pillow\n",
      "  Attempting uninstall: Pillow\n",
      "    Found existing installation: Pillow 9.2.0\n",
      "    Uninstalling Pillow-9.2.0:\n",
      "      Successfully uninstalled Pillow-9.2.0\n",
      "Successfully installed Pillow-10.1.0\n"
     ]
    }
   ],
   "source": [
    "!python3 -m pip install --upgrade Pillow"
   ]
  },
  {
   "cell_type": "code",
   "execution_count": 3,
   "id": "7459b42d-9298-4568-a56e-8ea8d66fb93d",
   "metadata": {},
   "outputs": [
    {
     "name": "stdout",
     "output_type": "stream",
     "text": [
      "Collecting opencv-python\n",
      "  Downloading opencv_python-4.8.1.78-cp37-abi3-manylinux_2_17_x86_64.manylinux2014_x86_64.whl (61.7 MB)\n",
      "\u001b[2K     \u001b[90m━━━━━━━━━━━━━━━━━━━━━━━━━━━━━━━━━━━━━━━━\u001b[0m \u001b[32m61.7/61.7 MB\u001b[0m \u001b[31m27.3 MB/s\u001b[0m eta \u001b[36m0:00:00\u001b[0m00:01\u001b[0m00:01\u001b[0m\n",
      "\u001b[?25hRequirement already satisfied: numpy>=1.19.3 in /opt/conda/lib/python3.10/site-packages (from opencv-python) (1.22.4)\n",
      "Installing collected packages: opencv-python\n",
      "Successfully installed opencv-python-4.8.1.78\n"
     ]
    }
   ],
   "source": [
    "!pip3 install opencv-python"
   ]
  },
  {
   "cell_type": "code",
   "execution_count": 26,
   "id": "ace66940-5c1f-4115-9a50-c501dd0ace71",
   "metadata": {},
   "outputs": [],
   "source": [
    "import cv2\n",
    "from PIL import Image\n",
    "\n",
    "def display_label(label_name):\n",
    "    image = cv2.imread(\"./data/train(region)/images/\"+label_name+\".png\")\n",
    "\n",
    "    with open(\"./data/train(region)/labels/\" + label_name + \".txt\", 'r') as f:\n",
    "        label = f.read()\n",
    "\n",
    "    label_elements = label.strip().split(' ')\n",
    "\n",
    "    coords = [(int(float(label_elements[i])*256), int(float(label_elements[i+1])*256)) for i in range(1, len(label_elements), 2)]\n",
    "   \n",
    "    for coord in coords:\n",
    "        cv2.circle(image, coord, radius=0, color=(0, 255, 0), thickness=-1)\n",
    "   \n",
    "    cv2.imwrite(\"./test.png\", image)\n"
   ]
  },
  {
   "cell_type": "code",
   "execution_count": 15,
   "id": "e117da93-8f5e-4e5c-bdad-8fe29aace7a9",
   "metadata": {},
   "outputs": [],
   "source": [
    "import cv2\n",
    "   \n",
    "def convert_to_grayscale(folder_path):\n",
    "    images_path = os.path.join(folder_path, 'images')\n",
    "    grayscale_images_path = os.path.join(folder_path, 'images-gray')\n",
    "\n",
    "    png_files = [file for file in os.listdir(images_path) if file.endswith('.png')]\n",
    "    \n",
    "    for img_path in png_files:\n",
    "        image = cv2.imread(images_path + \"/\" + img_path)\n",
    "        gray_image = cv2.cvtColor(image, cv2.COLOR_BGR2GRAY) \n",
    "        cv2.imwrite(grayscale_images_path + \"/\" + img_path, gray_image)\n"
   ]
  },
  {
   "cell_type": "code",
   "execution_count": 35,
   "id": "cbb20bc8-34bd-4cc2-9845-ca62b649911d",
   "metadata": {},
   "outputs": [],
   "source": [
    "from pathlib import Path\n",
    "\n",
    "def remove_invalid_labels_with_images(data_path):\n",
    "    images_path = os.path.join(data_path, 'images')\n",
    "    labels_path = os.path.join(data_path, 'labels')\n",
    "\n",
    "    txt_files = [file for file in os.listdir(labels_path) if file.endswith('.txt')]\n",
    "    \n",
    "    for txt_file in txt_files:\n",
    "        with open(labels_path +\"/\"+ txt_file, 'r') as f:\n",
    "            label = f.read()\n",
    "            png_file = os.path.splitext(txt_file)[0] + '.png'\n",
    "            if(len(label.split()) < 5):\n",
    "                print(\"removing... \" + png_file)\n",
    "                Path(images_path+\"/\" + png_file).unlink()\n",
    "                print(\"removing... \" + txt_file)\n",
    "                Path(labels_path+\"/\" + txt_file).unlink()\n",
    "        \n",
    "            "
   ]
  },
  {
   "cell_type": "code",
   "execution_count": 37,
   "id": "23792ea9-513b-4c27-8066-9cbfef530257",
   "metadata": {},
   "outputs": [],
   "source": [
    "# remove_invalid_labels_with_images(\"./data/train(region+grayscale)\")"
   ]
  },
  {
   "cell_type": "code",
   "execution_count": 17,
   "id": "e926a581-14a3-4318-911f-b90937540cc0",
   "metadata": {},
   "outputs": [],
   "source": [
    "convert_to_grayscale(\"./data/val(region+grayscale)\")"
   ]
  },
  {
   "cell_type": "code",
   "execution_count": 38,
   "id": "a3f5bff0-2195-4e3f-abe9-6d3baac64320",
   "metadata": {},
   "outputs": [],
   "source": [
    "display_label(\"2012_01_31__22_59_43_84__SDO_AIA_AIA_193\")"
   ]
  },
  {
   "cell_type": "code",
   "execution_count": 66,
   "id": "24affe6e-76ea-4103-972f-2ff9644af4fe",
   "metadata": {},
   "outputs": [],
   "source": [
    "convert_to_yolo(\"./data/train(region)\")\n",
    "convert_to_yolo(\"./data/val(region)\")"
   ]
  }
 ],
 "metadata": {
  "kernelspec": {
   "display_name": "Python 3 (ipykernel)",
   "language": "python",
   "name": "python3"
  },
  "language_info": {
   "codemirror_mode": {
    "name": "ipython",
    "version": 3
   },
   "file_extension": ".py",
   "mimetype": "text/x-python",
   "name": "python",
   "nbconvert_exporter": "python",
   "pygments_lexer": "ipython3",
   "version": "3.7.16"
  }
 },
 "nbformat": 4,
 "nbformat_minor": 5
}
